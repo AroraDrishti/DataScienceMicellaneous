{
 "cells": [
  {
   "cell_type": "markdown",
   "id": "a91bf4ab",
   "metadata": {},
   "source": [
    "# ASSIGNMENT 3.1\n",
    "## Submitted by: FARHAN ASIF (A23052200097)"
   ]
  },
  {
   "cell_type": "code",
   "execution_count": 1,
   "id": "66b8d344",
   "metadata": {},
   "outputs": [],
   "source": [
    "import numpy as np\n",
    "import pandas as pd\n",
    "import matplotlib.pyplot as plt\n",
    "import seaborn as sns"
   ]
  },
  {
   "cell_type": "code",
   "execution_count": 2,
   "id": "be2608f9",
   "metadata": {},
   "outputs": [],
   "source": [
    "df = pd.read_csv('NHAIAccidentData-1.csv')"
   ]
  },
  {
   "cell_type": "code",
   "execution_count": 3,
   "id": "2e27142f",
   "metadata": {},
   "outputs": [
    {
     "data": {
      "text/plain": [
       "(91, 18)"
      ]
     },
     "execution_count": 3,
     "metadata": {},
     "output_type": "execute_result"
    }
   ],
   "source": [
    "df.shape"
   ]
  },
  {
   "cell_type": "code",
   "execution_count": 4,
   "id": "28563b5b",
   "metadata": {},
   "outputs": [
    {
     "data": {
      "text/plain": [
       "Index(['Date', 'TimeOfAcc', 'AccLocation', 'NatureAccident',\n",
       "       'ClassificationOfAccident', 'Causes', 'RoadFeature', 'RoadCondition',\n",
       "       'IntersectionTypeControl', 'WeatherCondition', 'VehicleResponsible',\n",
       "       'Fatal', 'Grevious', 'Minor', 'Injured', 'NumAnimalsKilled',\n",
       "       'HelpProvidedByAmbulancePatrol', 'Remarks'],\n",
       "      dtype='object')"
      ]
     },
     "execution_count": 4,
     "metadata": {},
     "output_type": "execute_result"
    }
   ],
   "source": [
    "df.columns"
   ]
  },
  {
   "cell_type": "code",
   "execution_count": 5,
   "id": "a5641d3e",
   "metadata": {},
   "outputs": [
    {
     "data": {
      "text/html": [
       "<div>\n",
       "<style scoped>\n",
       "    .dataframe tbody tr th:only-of-type {\n",
       "        vertical-align: middle;\n",
       "    }\n",
       "\n",
       "    .dataframe tbody tr th {\n",
       "        vertical-align: top;\n",
       "    }\n",
       "\n",
       "    .dataframe thead th {\n",
       "        text-align: right;\n",
       "    }\n",
       "</style>\n",
       "<table border=\"1\" class=\"dataframe\">\n",
       "  <thead>\n",
       "    <tr style=\"text-align: right;\">\n",
       "      <th></th>\n",
       "      <th>Date</th>\n",
       "      <th>TimeOfAcc</th>\n",
       "      <th>AccLocation</th>\n",
       "      <th>NatureAccident</th>\n",
       "      <th>ClassificationOfAccident</th>\n",
       "      <th>Causes</th>\n",
       "      <th>RoadFeature</th>\n",
       "      <th>RoadCondition</th>\n",
       "      <th>IntersectionTypeControl</th>\n",
       "      <th>WeatherCondition</th>\n",
       "      <th>VehicleResponsible</th>\n",
       "      <th>Fatal</th>\n",
       "      <th>Grevious</th>\n",
       "      <th>Minor</th>\n",
       "      <th>Injured</th>\n",
       "      <th>NumAnimalsKilled</th>\n",
       "      <th>HelpProvidedByAmbulancePatrol</th>\n",
       "      <th>Remarks</th>\n",
       "    </tr>\n",
       "  </thead>\n",
       "  <tbody>\n",
       "    <tr>\n",
       "      <th>0</th>\n",
       "      <td>9/6/2015</td>\n",
       "      <td>09:00 AM</td>\n",
       "      <td>Ch. 69+5006</td>\n",
       "      <td>2</td>\n",
       "      <td>2</td>\n",
       "      <td>2</td>\n",
       "      <td>2</td>\n",
       "      <td>1</td>\n",
       "      <td>9</td>\n",
       "      <td>1</td>\n",
       "      <td>One Diesel Truck collapsed</td>\n",
       "      <td>0</td>\n",
       "      <td>2</td>\n",
       "      <td>1</td>\n",
       "      <td>0</td>\n",
       "      <td>0</td>\n",
       "      <td>Petrol Vehicle</td>\n",
       "      <td>NaN</td>\n",
       "    </tr>\n",
       "    <tr>\n",
       "      <th>1</th>\n",
       "      <td>9/5/2014</td>\n",
       "      <td>07:18 AM</td>\n",
       "      <td>72+500</td>\n",
       "      <td>7</td>\n",
       "      <td>1</td>\n",
       "      <td>2</td>\n",
       "      <td>2</td>\n",
       "      <td>3</td>\n",
       "      <td>9</td>\n",
       "      <td>1</td>\n",
       "      <td>Lorry &amp; Scorpio</td>\n",
       "      <td>2</td>\n",
       "      <td>0</td>\n",
       "      <td>0</td>\n",
       "      <td>0</td>\n",
       "      <td>0</td>\n",
       "      <td>Ambulance</td>\n",
       "      <td>NaN</td>\n",
       "    </tr>\n",
       "    <tr>\n",
       "      <th>2</th>\n",
       "      <td>9/10/2014</td>\n",
       "      <td>08:50 AM</td>\n",
       "      <td>20+250 LHS</td>\n",
       "      <td>4</td>\n",
       "      <td>-</td>\n",
       "      <td>3</td>\n",
       "      <td>3</td>\n",
       "      <td>1</td>\n",
       "      <td>9</td>\n",
       "      <td>1</td>\n",
       "      <td>LCV (KA02 AD 4041) HIT CAR (KA 19 Z 8477)</td>\n",
       "      <td>0</td>\n",
       "      <td>0</td>\n",
       "      <td>0</td>\n",
       "      <td>0</td>\n",
       "      <td>0</td>\n",
       "      <td>Petrol Vehicle</td>\n",
       "      <td>NO PROPERTY DAMAGES. INFORMED KEY PERSONS.</td>\n",
       "    </tr>\n",
       "    <tr>\n",
       "      <th>3</th>\n",
       "      <td>8/9/2015</td>\n",
       "      <td>05:00 AM</td>\n",
       "      <td>NaN</td>\n",
       "      <td>1</td>\n",
       "      <td>2</td>\n",
       "      <td>2</td>\n",
       "      <td>1</td>\n",
       "      <td>3</td>\n",
       "      <td>9</td>\n",
       "      <td>1</td>\n",
       "      <td>Lorry Truck</td>\n",
       "      <td>0</td>\n",
       "      <td>1</td>\n",
       "      <td>1</td>\n",
       "      <td>0</td>\n",
       "      <td>0</td>\n",
       "      <td>Petrol Vehicle</td>\n",
       "      <td>NaN</td>\n",
       "    </tr>\n",
       "    <tr>\n",
       "      <th>4</th>\n",
       "      <td>8/4/2015</td>\n",
       "      <td>08:23 AM</td>\n",
       "      <td>126.800 KM RHS</td>\n",
       "      <td>2</td>\n",
       "      <td>2</td>\n",
       "      <td>2</td>\n",
       "      <td>4</td>\n",
       "      <td>4</td>\n",
       "      <td>9</td>\n",
       "      <td>1</td>\n",
       "      <td>Car</td>\n",
       "      <td>0</td>\n",
       "      <td>2</td>\n",
       "      <td>1</td>\n",
       "      <td>1</td>\n",
       "      <td>0</td>\n",
       "      <td>Petrol Vehicle</td>\n",
       "      <td>A car upside due to over speed</td>\n",
       "    </tr>\n",
       "  </tbody>\n",
       "</table>\n",
       "</div>"
      ],
      "text/plain": [
       "        Date TimeOfAcc     AccLocation  NatureAccident  \\\n",
       "0   9/6/2015  09:00 AM     Ch. 69+5006               2   \n",
       "1   9/5/2014  07:18 AM          72+500               7   \n",
       "2  9/10/2014  08:50 AM      20+250 LHS               4   \n",
       "3   8/9/2015  05:00 AM             NaN               1   \n",
       "4   8/4/2015  08:23 AM  126.800 KM RHS               2   \n",
       "\n",
       "  ClassificationOfAccident Causes  RoadFeature  RoadCondition  \\\n",
       "0                        2      2            2              1   \n",
       "1                        1      2            2              3   \n",
       "2                        -      3            3              1   \n",
       "3                        2      2            1              3   \n",
       "4                        2      2            4              4   \n",
       "\n",
       "   IntersectionTypeControl  WeatherCondition  \\\n",
       "0                        9                 1   \n",
       "1                        9                 1   \n",
       "2                        9                 1   \n",
       "3                        9                 1   \n",
       "4                        9                 1   \n",
       "\n",
       "                          VehicleResponsible  Fatal  Grevious  Minor  Injured  \\\n",
       "0                 One Diesel Truck collapsed      0         2      1        0   \n",
       "1                            Lorry & Scorpio      2         0      0        0   \n",
       "2  LCV (KA02 AD 4041) HIT CAR (KA 19 Z 8477)      0         0      0        0   \n",
       "3                                Lorry Truck      0         1      1        0   \n",
       "4                                        Car      0         2      1        1   \n",
       "\n",
       "   NumAnimalsKilled HelpProvidedByAmbulancePatrol  \\\n",
       "0                 0                Petrol Vehicle   \n",
       "1                 0                     Ambulance   \n",
       "2                 0                Petrol Vehicle   \n",
       "3                 0                Petrol Vehicle   \n",
       "4                 0                Petrol Vehicle   \n",
       "\n",
       "                                      Remarks  \n",
       "0                                         NaN  \n",
       "1                                         NaN  \n",
       "2  NO PROPERTY DAMAGES. INFORMED KEY PERSONS.  \n",
       "3                                         NaN  \n",
       "4              A car upside due to over speed  "
      ]
     },
     "execution_count": 5,
     "metadata": {},
     "output_type": "execute_result"
    }
   ],
   "source": [
    "df.head()"
   ]
  },
  {
   "cell_type": "markdown",
   "id": "4af15460",
   "metadata": {},
   "source": [
    "## Q1)"
   ]
  },
  {
   "cell_type": "markdown",
   "id": "85174e47",
   "metadata": {},
   "source": [
    "Preprocessing"
   ]
  },
  {
   "cell_type": "code",
   "execution_count": 6,
   "id": "05687e11",
   "metadata": {},
   "outputs": [],
   "source": [
    "df = df.drop(df[df['ClassificationOfAccident'] == '-'].index)"
   ]
  },
  {
   "cell_type": "code",
   "execution_count": 7,
   "id": "bf2a584c",
   "metadata": {},
   "outputs": [],
   "source": [
    "df.loc[df['Causes'] == '-', 'Causes'] = 5"
   ]
  },
  {
   "cell_type": "code",
   "execution_count": 8,
   "id": "5f38c022",
   "metadata": {},
   "outputs": [],
   "source": [
    "df = df.drop(columns=['VehicleResponsible','HelpProvidedByAmbulancePatrol','Remarks'])"
   ]
  },
  {
   "cell_type": "code",
   "execution_count": 9,
   "id": "d11aee52",
   "metadata": {},
   "outputs": [
    {
     "data": {
      "text/plain": [
       "(83, 15)"
      ]
     },
     "execution_count": 9,
     "metadata": {},
     "output_type": "execute_result"
    }
   ],
   "source": [
    "df.shape"
   ]
  },
  {
   "cell_type": "markdown",
   "id": "d033b8df",
   "metadata": {},
   "source": [
    "Separating data on the basis of year of accident"
   ]
  },
  {
   "cell_type": "code",
   "execution_count": 10,
   "id": "c9125c5a",
   "metadata": {},
   "outputs": [],
   "source": [
    "dates = [pd.Timestamp(x) for x in df['Date']]"
   ]
  },
  {
   "cell_type": "code",
   "execution_count": 11,
   "id": "b626f7bf",
   "metadata": {},
   "outputs": [
    {
     "name": "stdout",
     "output_type": "stream",
     "text": [
      "Records in 2014: 33\n",
      "Records in 2015: 50\n"
     ]
    }
   ],
   "source": [
    "df_2014 = df[np.array(dates) < pd.Timestamp('2015-01-01')]\n",
    "df_2015 = df[np.array(dates) > pd.Timestamp('2014-12-31')]\n",
    "\n",
    "print('Records in 2014: ' + str(df_2014.shape[0]))\n",
    "print('Records in 2015: ' + str(df_2015.shape[0]))"
   ]
  },
  {
   "cell_type": "markdown",
   "id": "4d5b2770",
   "metadata": {},
   "source": [
    "Drop date and time columns"
   ]
  },
  {
   "cell_type": "code",
   "execution_count": 12,
   "id": "13650347",
   "metadata": {},
   "outputs": [],
   "source": [
    "df_2014 = df_2014.drop(columns = ['Date', 'TimeOfAcc', 'AccLocation'])\n",
    "df_2015 = df_2015.drop(columns = ['Date', 'TimeOfAcc', 'AccLocation'])"
   ]
  },
  {
   "cell_type": "markdown",
   "id": "ecdf8d40",
   "metadata": {},
   "source": [
    "Split data into train and test dataset"
   ]
  },
  {
   "cell_type": "code",
   "execution_count": 13,
   "id": "d180f3f2",
   "metadata": {},
   "outputs": [],
   "source": [
    "X_train_2014 = df_2014.drop(columns = ['ClassificationOfAccident'])\n",
    "Y_train_2014 = df_2014['ClassificationOfAccident']\n",
    "\n",
    "X_test_2015 = df_2015.drop(columns = ['ClassificationOfAccident'])\n",
    "Y_test_2015 = df_2015['ClassificationOfAccident']"
   ]
  },
  {
   "cell_type": "code",
   "execution_count": 14,
   "id": "b7414d5f",
   "metadata": {},
   "outputs": [],
   "source": [
    "from sklearn.ensemble import RandomForestClassifier\n",
    "\n",
    "rfc = RandomForestClassifier(\n",
    "    n_estimators = 100,\n",
    "    max_depth = 12,\n",
    "    oob_score = True,\n",
    "    random_state = 0\n",
    ")"
   ]
  },
  {
   "cell_type": "code",
   "execution_count": 15,
   "id": "88b68e5a",
   "metadata": {},
   "outputs": [
    {
     "data": {
      "text/html": [
       "<style>#sk-container-id-1 {color: black;background-color: white;}#sk-container-id-1 pre{padding: 0;}#sk-container-id-1 div.sk-toggleable {background-color: white;}#sk-container-id-1 label.sk-toggleable__label {cursor: pointer;display: block;width: 100%;margin-bottom: 0;padding: 0.3em;box-sizing: border-box;text-align: center;}#sk-container-id-1 label.sk-toggleable__label-arrow:before {content: \"▸\";float: left;margin-right: 0.25em;color: #696969;}#sk-container-id-1 label.sk-toggleable__label-arrow:hover:before {color: black;}#sk-container-id-1 div.sk-estimator:hover label.sk-toggleable__label-arrow:before {color: black;}#sk-container-id-1 div.sk-toggleable__content {max-height: 0;max-width: 0;overflow: hidden;text-align: left;background-color: #f0f8ff;}#sk-container-id-1 div.sk-toggleable__content pre {margin: 0.2em;color: black;border-radius: 0.25em;background-color: #f0f8ff;}#sk-container-id-1 input.sk-toggleable__control:checked~div.sk-toggleable__content {max-height: 200px;max-width: 100%;overflow: auto;}#sk-container-id-1 input.sk-toggleable__control:checked~label.sk-toggleable__label-arrow:before {content: \"▾\";}#sk-container-id-1 div.sk-estimator input.sk-toggleable__control:checked~label.sk-toggleable__label {background-color: #d4ebff;}#sk-container-id-1 div.sk-label input.sk-toggleable__control:checked~label.sk-toggleable__label {background-color: #d4ebff;}#sk-container-id-1 input.sk-hidden--visually {border: 0;clip: rect(1px 1px 1px 1px);clip: rect(1px, 1px, 1px, 1px);height: 1px;margin: -1px;overflow: hidden;padding: 0;position: absolute;width: 1px;}#sk-container-id-1 div.sk-estimator {font-family: monospace;background-color: #f0f8ff;border: 1px dotted black;border-radius: 0.25em;box-sizing: border-box;margin-bottom: 0.5em;}#sk-container-id-1 div.sk-estimator:hover {background-color: #d4ebff;}#sk-container-id-1 div.sk-parallel-item::after {content: \"\";width: 100%;border-bottom: 1px solid gray;flex-grow: 1;}#sk-container-id-1 div.sk-label:hover label.sk-toggleable__label {background-color: #d4ebff;}#sk-container-id-1 div.sk-serial::before {content: \"\";position: absolute;border-left: 1px solid gray;box-sizing: border-box;top: 0;bottom: 0;left: 50%;z-index: 0;}#sk-container-id-1 div.sk-serial {display: flex;flex-direction: column;align-items: center;background-color: white;padding-right: 0.2em;padding-left: 0.2em;position: relative;}#sk-container-id-1 div.sk-item {position: relative;z-index: 1;}#sk-container-id-1 div.sk-parallel {display: flex;align-items: stretch;justify-content: center;background-color: white;position: relative;}#sk-container-id-1 div.sk-item::before, #sk-container-id-1 div.sk-parallel-item::before {content: \"\";position: absolute;border-left: 1px solid gray;box-sizing: border-box;top: 0;bottom: 0;left: 50%;z-index: -1;}#sk-container-id-1 div.sk-parallel-item {display: flex;flex-direction: column;z-index: 1;position: relative;background-color: white;}#sk-container-id-1 div.sk-parallel-item:first-child::after {align-self: flex-end;width: 50%;}#sk-container-id-1 div.sk-parallel-item:last-child::after {align-self: flex-start;width: 50%;}#sk-container-id-1 div.sk-parallel-item:only-child::after {width: 0;}#sk-container-id-1 div.sk-dashed-wrapped {border: 1px dashed gray;margin: 0 0.4em 0.5em 0.4em;box-sizing: border-box;padding-bottom: 0.4em;background-color: white;}#sk-container-id-1 div.sk-label label {font-family: monospace;font-weight: bold;display: inline-block;line-height: 1.2em;}#sk-container-id-1 div.sk-label-container {text-align: center;}#sk-container-id-1 div.sk-container {/* jupyter's `normalize.less` sets `[hidden] { display: none; }` but bootstrap.min.css set `[hidden] { display: none !important; }` so we also need the `!important` here to be able to override the default hidden behavior on the sphinx rendered scikit-learn.org. See: https://github.com/scikit-learn/scikit-learn/issues/21755 */display: inline-block !important;position: relative;}#sk-container-id-1 div.sk-text-repr-fallback {display: none;}</style><div id=\"sk-container-id-1\" class=\"sk-top-container\"><div class=\"sk-text-repr-fallback\"><pre>RandomForestClassifier(max_depth=12, oob_score=True, random_state=0)</pre><b>In a Jupyter environment, please rerun this cell to show the HTML representation or trust the notebook. <br />On GitHub, the HTML representation is unable to render, please try loading this page with nbviewer.org.</b></div><div class=\"sk-container\" hidden><div class=\"sk-item\"><div class=\"sk-estimator sk-toggleable\"><input class=\"sk-toggleable__control sk-hidden--visually\" id=\"sk-estimator-id-1\" type=\"checkbox\" checked><label for=\"sk-estimator-id-1\" class=\"sk-toggleable__label sk-toggleable__label-arrow\">RandomForestClassifier</label><div class=\"sk-toggleable__content\"><pre>RandomForestClassifier(max_depth=12, oob_score=True, random_state=0)</pre></div></div></div></div></div>"
      ],
      "text/plain": [
       "RandomForestClassifier(max_depth=12, oob_score=True, random_state=0)"
      ]
     },
     "execution_count": 15,
     "metadata": {},
     "output_type": "execute_result"
    }
   ],
   "source": [
    "rfc.fit(X_train_2014, Y_train_2014)"
   ]
  },
  {
   "cell_type": "code",
   "execution_count": 16,
   "id": "cd1d4159",
   "metadata": {},
   "outputs": [],
   "source": [
    "pred_2014 = rfc.predict(X_train_2014)\n",
    "pred_2015 = rfc.predict(X_test_2015)"
   ]
  },
  {
   "cell_type": "code",
   "execution_count": 17,
   "id": "7d176e77",
   "metadata": {},
   "outputs": [],
   "source": [
    "from sklearn.metrics import confusion_matrix, accuracy_score, precision_score, f1_score, recall_score, classification_report"
   ]
  },
  {
   "cell_type": "markdown",
   "id": "8909da1b",
   "metadata": {},
   "source": [
    "Evaluation metrics on train dataset"
   ]
  },
  {
   "cell_type": "code",
   "execution_count": 18,
   "id": "36d9163e",
   "metadata": {},
   "outputs": [
    {
     "name": "stdout",
     "output_type": "stream",
     "text": [
      "Accuracy: 1.0\n"
     ]
    }
   ],
   "source": [
    "print(\"Accuracy: \" + str(accuracy_score(Y_train_2014, pred_2014)))"
   ]
  },
  {
   "cell_type": "code",
   "execution_count": 19,
   "id": "73e37e4f",
   "metadata": {},
   "outputs": [
    {
     "name": "stdout",
     "output_type": "stream",
     "text": [
      "Precision score: 1.0\n"
     ]
    }
   ],
   "source": [
    "print(\"Precision score: \" + str(precision_score(Y_train_2014, pred_2014, average = 'weighted')))"
   ]
  },
  {
   "cell_type": "code",
   "execution_count": 20,
   "id": "5e5e8085",
   "metadata": {},
   "outputs": [
    {
     "name": "stdout",
     "output_type": "stream",
     "text": [
      "Recall: 1.0\n"
     ]
    }
   ],
   "source": [
    "print(\"Recall: \" + str(recall_score(Y_train_2014, pred_2014, average = 'weighted')))"
   ]
  },
  {
   "cell_type": "code",
   "execution_count": 21,
   "id": "e08b1ff0",
   "metadata": {},
   "outputs": [
    {
     "name": "stdout",
     "output_type": "stream",
     "text": [
      "F1 Score: 1.0\n"
     ]
    }
   ],
   "source": [
    "print(\"F1 Score: \" + str(f1_score(Y_train_2014, pred_2014, average = 'weighted')))"
   ]
  },
  {
   "cell_type": "code",
   "execution_count": 22,
   "id": "813ac939",
   "metadata": {},
   "outputs": [
    {
     "name": "stdout",
     "output_type": "stream",
     "text": [
      "Classification Report: \n",
      "              precision    recall  f1-score   support\n",
      "\n",
      "           1       1.00      1.00      1.00        12\n",
      "           2       1.00      1.00      1.00         8\n",
      "           3       1.00      1.00      1.00         9\n",
      "           4       1.00      1.00      1.00         4\n",
      "\n",
      "    accuracy                           1.00        33\n",
      "   macro avg       1.00      1.00      1.00        33\n",
      "weighted avg       1.00      1.00      1.00        33\n",
      "\n"
     ]
    }
   ],
   "source": [
    "print(\"Classification Report: \\n\" + classification_report(Y_train_2014, pred_2014))"
   ]
  },
  {
   "cell_type": "markdown",
   "id": "b159942a",
   "metadata": {},
   "source": [
    "Evaluation metrics on test dataset"
   ]
  },
  {
   "cell_type": "code",
   "execution_count": 23,
   "id": "13f82bc1",
   "metadata": {},
   "outputs": [
    {
     "name": "stdout",
     "output_type": "stream",
     "text": [
      "Accuracy: 0.62\n"
     ]
    }
   ],
   "source": [
    "print(\"Accuracy: \" + str(accuracy_score(Y_test_2015, pred_2015)))"
   ]
  },
  {
   "cell_type": "code",
   "execution_count": 24,
   "id": "cbd7c60a",
   "metadata": {},
   "outputs": [
    {
     "name": "stdout",
     "output_type": "stream",
     "text": [
      "Precision score: 0.5034784688995215\n"
     ]
    },
    {
     "name": "stderr",
     "output_type": "stream",
     "text": [
      "C:\\Users\\HP\\anaconda3\\lib\\site-packages\\sklearn\\metrics\\_classification.py:1327: UndefinedMetricWarning: Precision is ill-defined and being set to 0.0 in labels with no predicted samples. Use `zero_division` parameter to control this behavior.\n",
      "  _warn_prf(average, modifier, msg_start, len(result))\n"
     ]
    }
   ],
   "source": [
    "print(\"Precision score: \" + str(precision_score(Y_test_2015, pred_2015, average = 'weighted')))"
   ]
  },
  {
   "cell_type": "code",
   "execution_count": 25,
   "id": "86ed14b9",
   "metadata": {},
   "outputs": [
    {
     "name": "stdout",
     "output_type": "stream",
     "text": [
      "Recall: 0.62\n"
     ]
    }
   ],
   "source": [
    "print(\"Recall: \" + str(recall_score(Y_test_2015, pred_2015, average = 'weighted')))"
   ]
  },
  {
   "cell_type": "code",
   "execution_count": 26,
   "id": "147aeade",
   "metadata": {},
   "outputs": [
    {
     "name": "stdout",
     "output_type": "stream",
     "text": [
      "F1 Score: 0.5525396825396826\n"
     ]
    }
   ],
   "source": [
    "print(\"F1 Score: \" + str(f1_score(Y_test_2015, pred_2015, average = 'weighted')))"
   ]
  },
  {
   "cell_type": "code",
   "execution_count": 27,
   "id": "48698dca",
   "metadata": {},
   "outputs": [
    {
     "name": "stdout",
     "output_type": "stream",
     "text": [
      "Classification Report: \n",
      "              precision    recall  f1-score   support\n",
      "\n",
      "           1       0.82      0.90      0.86        10\n",
      "           2       0.58      0.65      0.61        17\n",
      "           3       0.55      0.85      0.67        13\n",
      "           4       0.00      0.00      0.00        10\n",
      "\n",
      "    accuracy                           0.62        50\n",
      "   macro avg       0.49      0.60      0.53        50\n",
      "weighted avg       0.50      0.62      0.55        50\n",
      "\n"
     ]
    },
    {
     "name": "stderr",
     "output_type": "stream",
     "text": [
      "C:\\Users\\HP\\anaconda3\\lib\\site-packages\\sklearn\\metrics\\_classification.py:1327: UndefinedMetricWarning: Precision and F-score are ill-defined and being set to 0.0 in labels with no predicted samples. Use `zero_division` parameter to control this behavior.\n",
      "  _warn_prf(average, modifier, msg_start, len(result))\n",
      "C:\\Users\\HP\\anaconda3\\lib\\site-packages\\sklearn\\metrics\\_classification.py:1327: UndefinedMetricWarning: Precision and F-score are ill-defined and being set to 0.0 in labels with no predicted samples. Use `zero_division` parameter to control this behavior.\n",
      "  _warn_prf(average, modifier, msg_start, len(result))\n",
      "C:\\Users\\HP\\anaconda3\\lib\\site-packages\\sklearn\\metrics\\_classification.py:1327: UndefinedMetricWarning: Precision and F-score are ill-defined and being set to 0.0 in labels with no predicted samples. Use `zero_division` parameter to control this behavior.\n",
      "  _warn_prf(average, modifier, msg_start, len(result))\n"
     ]
    }
   ],
   "source": [
    "print(\"Classification Report: \\n\" + classification_report(Y_test_2015, pred_2015))"
   ]
  },
  {
   "cell_type": "markdown",
   "id": "b4732586",
   "metadata": {},
   "source": [
    "Test accuracy is 62%"
   ]
  },
  {
   "cell_type": "markdown",
   "id": "6a521954",
   "metadata": {},
   "source": [
    "## Q2)"
   ]
  },
  {
   "cell_type": "code",
   "execution_count": 28,
   "id": "455ecba7",
   "metadata": {},
   "outputs": [],
   "source": [
    "df = pd.read_csv('NHAIAccidentData-1.csv')"
   ]
  },
  {
   "cell_type": "code",
   "execution_count": 29,
   "id": "6371e1ba",
   "metadata": {},
   "outputs": [],
   "source": [
    "AccLocation = df['AccLocation']"
   ]
  },
  {
   "cell_type": "code",
   "execution_count": 30,
   "id": "f1e25b1f",
   "metadata": {},
   "outputs": [],
   "source": [
    "AccLocation = AccLocation.dropna()"
   ]
  },
  {
   "cell_type": "code",
   "execution_count": 31,
   "id": "34ec9022",
   "metadata": {},
   "outputs": [],
   "source": [
    "AccLocation = pd.DataFrame([x.replace('+','.') for x in AccLocation])"
   ]
  },
  {
   "cell_type": "code",
   "execution_count": 32,
   "id": "9c08ffa5",
   "metadata": {},
   "outputs": [],
   "source": [
    "proneLoc = AccLocation.value_counts()"
   ]
  },
  {
   "cell_type": "code",
   "execution_count": 33,
   "id": "053fd14e",
   "metadata": {},
   "outputs": [
    {
     "data": {
      "text/plain": [
       "<AxesSubplot:title={'center':'Most Prone Accident Locations'}, xlabel='0'>"
      ]
     },
     "execution_count": 33,
     "metadata": {},
     "output_type": "execute_result"
    },
    {
     "data": {
      "image/png": "[encoded data removed]",
      "text/plain": [
       "<Figure size 720x1080 with 1 Axes>"
      ]
     },
     "metadata": {
      "needs_background": "light"
     },
     "output_type": "display_data"
    }
   ],
   "source": [
    "# Visualization\n",
    "proneLoc.head().plot(kind = 'bar', title = 'Most Prone Accident Locations', figsize = (10,15))"
   ]
  },
  {
   "cell_type": "markdown",
   "id": "56bed079",
   "metadata": {},
   "source": [
    "## Q3)"
   ]
  },
  {
   "cell_type": "code",
   "execution_count": 34,
   "id": "bc4753c0",
   "metadata": {},
   "outputs": [
    {
     "data": {
      "text/html": [
       "<div>\n",
       "<style scoped>\n",
       "    .dataframe tbody tr th:only-of-type {\n",
       "        vertical-align: middle;\n",
       "    }\n",
       "\n",
       "    .dataframe tbody tr th {\n",
       "        vertical-align: top;\n",
       "    }\n",
       "\n",
       "    .dataframe thead th {\n",
       "        text-align: right;\n",
       "    }\n",
       "</style>\n",
       "<table border=\"1\" class=\"dataframe\">\n",
       "  <thead>\n",
       "    <tr style=\"text-align: right;\">\n",
       "      <th></th>\n",
       "      <th>Importance</th>\n",
       "    </tr>\n",
       "  </thead>\n",
       "  <tbody>\n",
       "    <tr>\n",
       "      <th>Fatal</th>\n",
       "      <td>0.255871</td>\n",
       "    </tr>\n",
       "    <tr>\n",
       "      <th>Grevious</th>\n",
       "      <td>0.156828</td>\n",
       "    </tr>\n",
       "    <tr>\n",
       "      <th>Minor</th>\n",
       "      <td>0.152963</td>\n",
       "    </tr>\n",
       "    <tr>\n",
       "      <th>NatureAccident</th>\n",
       "      <td>0.140773</td>\n",
       "    </tr>\n",
       "    <tr>\n",
       "      <th>Causes</th>\n",
       "      <td>0.122761</td>\n",
       "    </tr>\n",
       "  </tbody>\n",
       "</table>\n",
       "</div>"
      ],
      "text/plain": [
       "                Importance\n",
       "Fatal             0.255871\n",
       "Grevious          0.156828\n",
       "Minor             0.152963\n",
       "NatureAccident    0.140773\n",
       "Causes            0.122761"
      ]
     },
     "execution_count": 34,
     "metadata": {},
     "output_type": "execute_result"
    }
   ],
   "source": [
    "feature_importances = rfc.feature_importances_\n",
    "feature_importance = pd.DataFrame(feature_importances, index = X_train_2014.columns, columns=['Importance'])\n",
    "feature_importance.sort_values('Importance', ascending = False, inplace = True)\n",
    "feature_importance.head()"
   ]
  }
 ],
 "metadata": {
  "kernelspec": {
   "display_name": "Python 3",
   "language": "python",
   "name": "python3"
  },
  "language_info": {
   "codemirror_mode": {
    "name": "ipython",
    "version": 3
   },
   "file_extension": ".py",
   "mimetype": "text/x-python",
   "name": "python",
   "nbconvert_exporter": "python",
   "pygments_lexer": "ipython3",
   "version": "3.8.8"
  }
 },
 "nbformat": 4,
 "nbformat_minor": 5
}
