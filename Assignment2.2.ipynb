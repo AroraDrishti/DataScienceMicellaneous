{
 "cells": [
  {
   "cell_type": "markdown",
   "metadata": {},
   "source": [
    "Question 1"
   ]
  },
  {
   "cell_type": "code",
   "execution_count": 1,
   "metadata": {},
   "outputs": [],
   "source": [
    "import pandas as pd\n",
    "import numpy as np"
   ]
  },
  {
   "cell_type": "code",
   "execution_count": 4,
   "metadata": {},
   "outputs": [],
   "source": [
    "#Creating a Dictionary of series\n",
    "d = {\n",
    "    'Name': pd.Series(['Tom', 'James', 'Ricky', 'Vin', 'Steve', 'Smith', 'Jack']),\n",
    "    'Age': pd.Series([25, 26, 25, 23, 30, 29, 23]),\n",
    "    'Rating': pd.Series([4.23, 3.24, 3.98, 2.56, 3.20, 4.6, 3.8])\n",
    "}"
   ]
  },
  {
   "cell_type": "code",
   "execution_count": 25,
   "metadata": {},
   "outputs": [
    {
     "name": "stdout",
     "output_type": "stream",
     "text": [
      "(7,) (7,) (7,)\n",
      "7 7 7\n",
      "object int64 float64\n"
     ]
    }
   ],
   "source": [
    "#Printing the shape, size and dtype\n",
    "print(d[\"Name\"].shape, d[\"Age\"].shape, d[\"Rating\"].shape)\n",
    "print(d[\"Name\"].size, d[\"Age\"].size, d[\"Rating\"].size)\n",
    "print(d[\"Name\"].dtype, d[\"Age\"].dtype, d[\"Rating\"].dtype)"
   ]
  },
  {
   "cell_type": "code",
   "execution_count": 73,
   "metadata": {},
   "outputs": [
    {
     "name": "stdout",
     "output_type": "stream",
     "text": [
      "0      Tom\n",
      "1    James\n",
      "2    Ricky\n",
      "3      Vin\n",
      "4    Steve\n",
      "dtype: object 0    25\n",
      "1    26\n",
      "2    25\n",
      "3    23\n",
      "4    30\n",
      "dtype: int64 0    4.23\n",
      "1    3.24\n",
      "2    3.98\n",
      "3    2.56\n",
      "4    3.20\n",
      "dtype: float64\n"
     ]
    }
   ],
   "source": [
    "#Printing the head with default value of 5\n",
    "print(d[\"Name\"].head(), d[\"Age\"].head(), d[\"Rating\"].head())"
   ]
  },
  {
   "cell_type": "code",
   "execution_count": 74,
   "metadata": {},
   "outputs": [
    {
     "name": "stdout",
     "output_type": "stream",
     "text": [
      "2    Ricky\n",
      "3      Vin\n",
      "4    Steve\n",
      "5    Smith\n",
      "6     Jack\n",
      "dtype: object 2    25\n",
      "3    23\n",
      "4    30\n",
      "5    29\n",
      "6    23\n",
      "dtype: int64 2    3.98\n",
      "3    2.56\n",
      "4    3.20\n",
      "5    4.60\n",
      "6    3.80\n",
      "dtype: float64\n"
     ]
    }
   ],
   "source": [
    "#Printing the tail with default value of 5\n",
    "print(d[\"Name\"].tail(), d[\"Age\"].tail(), d[\"Rating\"].tail())"
   ]
  },
  {
   "cell_type": "code",
   "execution_count": 27,
   "metadata": {},
   "outputs": [
    {
     "name": "stdout",
     "output_type": "stream",
     "text": [
      "      Team  Rank  Year  Points\n",
      "0   Riders     1  2014     876\n",
      "1   Riders     2  2015     789\n",
      "2   Devils     2  2014     863\n",
      "3   Devils     3  2015     673\n",
      "4    Kings     3  2014     741\n",
      "5    kings     4  2015     812\n",
      "6    Kings     1  2016     756\n",
      "7    Kings     1  2017     788\n",
      "8   Riders     2  2016     694\n",
      "9   Royals     4  2014     701\n",
      "10  Royals     1  2015     804\n",
      "11  Riders     2  2017     690\n"
     ]
    }
   ],
   "source": [
    "#Creating a Dataframe\n",
    "ipl_data = {\n",
    "    'Team': ['Riders', 'Riders', 'Devils', 'Devils', 'Kings', 'kings', 'Kings', 'Kings', 'Riders', 'Royals', 'Royals', 'Riders'], \n",
    "    'Rank': [1, 2, 2, 3, 3, 4, 1, 1, 2, 4, 1, 2], \n",
    "    'Year': [2014, 2015, 2014, 2015, 2014, 2015, 2016, 2017, 2016, 2014, 2015, 2017], \n",
    "    'Points': [876, 789, 863, 673, 741, 812, 756, 788, 694, 701, 804, 690]\n",
    "} \n",
    "df = pd.DataFrame(ipl_data)\n",
    "print(df)"
   ]
  },
  {
   "cell_type": "code",
   "execution_count": 72,
   "metadata": {},
   "outputs": [
    {
     "name": "stdout",
     "output_type": "stream",
     "text": [
      "        Rank  Year  Points\n",
      "Team                      \n",
      "Devils     2  2014     863\n",
      "Kings      3  2014     741\n",
      "Riders     1  2014     876\n",
      "Royals     4  2014     701\n",
      "kings      4  2015     812\n"
     ]
    }
   ],
   "source": [
    "#Group by Team\n",
    "print(df.groupby(\"Team\").first())"
   ]
  },
  {
   "cell_type": "code",
   "execution_count": 71,
   "metadata": {},
   "outputs": [
    {
     "name": "stdout",
     "output_type": "stream",
     "text": [
      "        Team  Year  Points\n",
      "Rank                      \n",
      "1     Riders  2014     876\n",
      "2     Riders  2015     789\n",
      "3     Devils  2015     673\n",
      "4      kings  2015     812\n"
     ]
    }
   ],
   "source": [
    "#Group by Rank\n",
    "print(df.groupby(\"Rank\").first())"
   ]
  },
  {
   "cell_type": "code",
   "execution_count": 70,
   "metadata": {},
   "outputs": [
    {
     "name": "stdout",
     "output_type": "stream",
     "text": [
      "        Team  Rank  Points\n",
      "Year                      \n",
      "2014  Riders     1     876\n",
      "2015  Riders     2     789\n",
      "2016   Kings     1     756\n",
      "2017   Kings     1     788\n"
     ]
    }
   ],
   "source": [
    "#Group by Year\n",
    "print(df.groupby(\"Year\").first())"
   ]
  },
  {
   "cell_type": "code",
   "execution_count": 62,
   "metadata": {},
   "outputs": [
    {
     "name": "stdout",
     "output_type": "stream",
     "text": [
      "                  Points\n",
      "Team   Rank Year        \n",
      "Devils 2    2014     863\n",
      "       3    2015     673\n",
      "Kings  1    2016     756\n",
      "            2017     788\n",
      "       3    2014     741\n",
      "Riders 1    2014     876\n",
      "       2    2015     789\n",
      "            2016     694\n",
      "            2017     690\n",
      "Royals 1    2015     804\n",
      "       4    2014     701\n",
      "kings  4    2015     812\n"
     ]
    }
   ],
   "source": [
    "# Group by (Team,Rank and Year)\n",
    "print(df.groupby(['Team','Rank','Year']).first())"
   ]
  },
  {
   "cell_type": "markdown",
   "metadata": {},
   "source": [
    "Question 2"
   ]
  },
  {
   "cell_type": "code",
   "execution_count": 55,
   "metadata": {},
   "outputs": [],
   "source": [
    "import numpy as np"
   ]
  },
  {
   "cell_type": "code",
   "execution_count": 56,
   "metadata": {},
   "outputs": [],
   "source": [
    "#Creating 1D arrays\n",
    "a = np.array([10,20,30])\n",
    "b = np.array([3,5,7])"
   ]
  },
  {
   "cell_type": "code",
   "execution_count": 69,
   "metadata": {},
   "outputs": [
    {
     "name": "stdout",
     "output_type": "stream",
     "text": [
      "[       1000     3200000 21870000000]\n"
     ]
    }
   ],
   "source": [
    "#Applying power function\n",
    "print(np.power(a,b))"
   ]
  },
  {
   "cell_type": "code",
   "execution_count": 76,
   "metadata": {},
   "outputs": [
    {
     "name": "stdout",
     "output_type": "stream",
     "text": [
      "[1 0 2]\n"
     ]
    }
   ],
   "source": [
    "#Applying mod function\n",
    "print(np.mod(a,b))"
   ]
  },
  {
   "cell_type": "code",
   "execution_count": 77,
   "metadata": {},
   "outputs": [
    {
     "name": "stdout",
     "output_type": "stream",
     "text": [
      "[1 0 2]\n"
     ]
    }
   ],
   "source": [
    "#Applying remainder function\n",
    "print(np.remainder(a,b))"
   ]
  }
 ],
 "metadata": {
  "interpreter": {
   "hash": "31f2aee4e71d21fbe5cf8b01ff0e069b9275f58929596ceb00d14d90e3e16cd6"
  },
  "kernelspec": {
   "display_name": "Python 3",
   "language": "python",
   "name": "python3"
  },
  "language_info": {
   "codemirror_mode": {
    "name": "ipython",
    "version": 3
   },
   "file_extension": ".py",
   "mimetype": "text/x-python",
   "name": "python",
   "nbconvert_exporter": "python",
   "pygments_lexer": "ipython3",
   "version": "3.8.8"
  }
 },
 "nbformat": 4,
 "nbformat_minor": 2
}
