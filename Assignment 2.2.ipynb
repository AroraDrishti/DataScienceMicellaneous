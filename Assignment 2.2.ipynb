{
 "cells": [
  {
   "cell_type": "markdown",
   "id": "cb29eb50",
   "metadata": {},
   "source": [
    "# ASSIGNMENT 2.2\n",
    "## Submitted by: FARHAN ASIF (A23052200097)"
   ]
  },
  {
   "cell_type": "markdown",
   "id": "c6773871",
   "metadata": {},
   "source": [
    "Q1)"
   ]
  },
  {
   "cell_type": "code",
   "execution_count": 14,
   "id": "d052020c",
   "metadata": {},
   "outputs": [],
   "source": [
    "import pandas as pd\n",
    "import numpy as np"
   ]
  },
  {
   "cell_type": "code",
   "execution_count": 15,
   "id": "ef2f21fa",
   "metadata": {},
   "outputs": [],
   "source": [
    "#Creating a Dictionary of series\n",
    "d = {\n",
    "    'Name': pd.Series(['Tom', 'James', 'Ricky', 'Vin', 'Steve', 'Smith', 'Jack']),\n",
    "    'Age': pd.Series([25, 26, 25, 23, 30, 29, 23]),\n",
    "    'Rating': pd.Series([4.23, 3.24, 3.98, 2.56, 3.20, 4.6, 3.8])\n",
    "}"
   ]
  },
  {
   "cell_type": "code",
   "execution_count": 16,
   "id": "6bdb75b6",
   "metadata": {},
   "outputs": [
    {
     "name": "stdout",
     "output_type": "stream",
     "text": [
      "(7,) (7,) (7,)\n"
     ]
    }
   ],
   "source": [
    "print(d[\"Name\"].shape, d[\"Age\"].shape, d[\"Rating\"].shape)"
   ]
  },
  {
   "cell_type": "code",
   "execution_count": 17,
   "id": "86dd1677",
   "metadata": {},
   "outputs": [
    {
     "name": "stdout",
     "output_type": "stream",
     "text": [
      "7 7 7\n"
     ]
    }
   ],
   "source": [
    "print(d[\"Name\"].size, d[\"Age\"].size, d[\"Rating\"].size)"
   ]
  },
  {
   "cell_type": "code",
   "execution_count": 18,
   "id": "b7579879",
   "metadata": {},
   "outputs": [
    {
     "name": "stdout",
     "output_type": "stream",
     "text": [
      "object int64 float64\n"
     ]
    }
   ],
   "source": [
    "print(d[\"Name\"].dtype, d[\"Age\"].dtype, d[\"Rating\"].dtype)"
   ]
  },
  {
   "cell_type": "code",
   "execution_count": 19,
   "id": "07ad53bb",
   "metadata": {},
   "outputs": [
    {
     "name": "stdout",
     "output_type": "stream",
     "text": [
      "0      Tom\n",
      "1    James\n",
      "2    Ricky\n",
      "3      Vin\n",
      "4    Steve\n",
      "dtype: object 0    25\n",
      "1    26\n",
      "2    25\n",
      "3    23\n",
      "4    30\n",
      "dtype: int64 0    4.23\n",
      "1    3.24\n",
      "2    3.98\n",
      "3    2.56\n",
      "4    3.20\n",
      "dtype: float64\n"
     ]
    }
   ],
   "source": [
    "print(d[\"Name\"].head(), d[\"Age\"].head(), d[\"Rating\"].head())"
   ]
  },
  {
   "cell_type": "code",
   "execution_count": 20,
   "id": "ae3606c3",
   "metadata": {},
   "outputs": [
    {
     "name": "stdout",
     "output_type": "stream",
     "text": [
      "2    Ricky\n",
      "3      Vin\n",
      "4    Steve\n",
      "5    Smith\n",
      "6     Jack\n",
      "dtype: object 2    25\n",
      "3    23\n",
      "4    30\n",
      "5    29\n",
      "6    23\n",
      "dtype: int64 2    3.98\n",
      "3    2.56\n",
      "4    3.20\n",
      "5    4.60\n",
      "6    3.80\n",
      "dtype: float64\n"
     ]
    }
   ],
   "source": [
    "print(d[\"Name\"].tail(), d[\"Age\"].tail(), d[\"Rating\"].tail())"
   ]
  },
  {
   "cell_type": "code",
   "execution_count": 21,
   "id": "a073c17a",
   "metadata": {},
   "outputs": [
    {
     "ename": "SyntaxError",
     "evalue": "invalid syntax (<ipython-input-21-5f193eb6340f>, line 1)",
     "output_type": "error",
     "traceback": [
      "\u001b[1;36m  File \u001b[1;32m\"<ipython-input-21-5f193eb6340f>\"\u001b[1;36m, line \u001b[1;32m1\u001b[0m\n\u001b[1;33m    ipl_data =\u001b[0m\n\u001b[1;37m               ^\u001b[0m\n\u001b[1;31mSyntaxError\u001b[0m\u001b[1;31m:\u001b[0m invalid syntax\n"
     ]
    }
   ],
   "source": [
    "ipl_data = \n",
    "{\n",
    "    'Team': ['Riders', 'Riders', 'Devils', 'Devils', 'Kings', 'kings', 'Kings', 'Kings', 'Riders', 'Royals', 'Royals', 'Riders'], \n",
    "    'Rank': [1, 2, 2, 3, 3, 4, 1, 1, 2, 4, 1, 2], \n",
    "    'Year': [2014, 2015, 2014, 2015, 2014, 2015, 2016, 2017, 2016, 2014, 2015, 2017], \n",
    "    'Points': [876, 789, 863, 673, 741, 812, 756, 788, 694, 701, 804, 690]\n",
    "} "
   ]
  },
  {
   "cell_type": "code",
   "execution_count": 22,
   "id": "c52f540e",
   "metadata": {},
   "outputs": [],
   "source": [
    "df = pd.DataFrame(ipl_data)"
   ]
  },
  {
   "cell_type": "code",
   "execution_count": 23,
   "id": "67c9faf8",
   "metadata": {},
   "outputs": [
    {
     "name": "stdout",
     "output_type": "stream",
     "text": [
      "      Team  Rank  Year  Points\n",
      "0   Riders     1  2014     876\n",
      "1   Riders     2  2015     789\n",
      "2   Devils     2  2014     863\n",
      "3   Devils     3  2015     673\n",
      "4    Kings     3  2014     741\n",
      "5    kings     4  2015     812\n",
      "6    Kings     1  2016     756\n",
      "7    Kings     1  2017     788\n",
      "8   Riders     2  2016     694\n",
      "9   Royals     4  2014     701\n",
      "10  Royals     1  2015     804\n",
      "11  Riders     2  2017     690\n"
     ]
    }
   ],
   "source": [
    " print(df)"
   ]
  },
  {
   "cell_type": "code",
   "execution_count": 24,
   "id": "890a314c",
   "metadata": {},
   "outputs": [
    {
     "name": "stdout",
     "output_type": "stream",
     "text": [
      "        Rank  Year  Points\n",
      "Team                      \n",
      "Devils     2  2014     863\n",
      "Kings      3  2014     741\n",
      "Riders     1  2014     876\n",
      "Royals     4  2014     701\n",
      "kings      4  2015     812\n"
     ]
    }
   ],
   "source": [
    "#Group by Team\n",
    "print(df.groupby(\"Team\").first())"
   ]
  },
  {
   "cell_type": "code",
   "execution_count": 25,
   "id": "264b81dd",
   "metadata": {},
   "outputs": [
    {
     "name": "stdout",
     "output_type": "stream",
     "text": [
      "        Team  Year  Points\n",
      "Rank                      \n",
      "1     Riders  2014     876\n",
      "2     Riders  2015     789\n",
      "3     Devils  2015     673\n",
      "4      kings  2015     812\n"
     ]
    }
   ],
   "source": [
    "#Group by Rank\n",
    "print(df.groupby(\"Rank\").first())"
   ]
  },
  {
   "cell_type": "code",
   "execution_count": 26,
   "id": "a59d0df8",
   "metadata": {},
   "outputs": [
    {
     "name": "stdout",
     "output_type": "stream",
     "text": [
      "        Team  Rank  Points\n",
      "Year                      \n",
      "2014  Riders     1     876\n",
      "2015  Riders     2     789\n",
      "2016   Kings     1     756\n",
      "2017   Kings     1     788\n"
     ]
    }
   ],
   "source": [
    "#Group by Year\n",
    "print(df.groupby(\"Year\").first())"
   ]
  },
  {
   "cell_type": "code",
   "execution_count": 27,
   "id": "b3a026cc",
   "metadata": {},
   "outputs": [
    {
     "name": "stdout",
     "output_type": "stream",
     "text": [
      "                  Points\n",
      "Team   Rank Year        \n",
      "Devils 2    2014     863\n",
      "       3    2015     673\n",
      "Kings  1    2016     756\n",
      "            2017     788\n",
      "       3    2014     741\n",
      "Riders 1    2014     876\n",
      "       2    2015     789\n",
      "            2016     694\n",
      "            2017     690\n",
      "Royals 1    2015     804\n",
      "       4    2014     701\n",
      "kings  4    2015     812\n"
     ]
    }
   ],
   "source": [
    "# Group by (Team,Rank and Year)\n",
    "print(df.groupby(['Team','Rank','Year']).first())"
   ]
  },
  {
   "cell_type": "markdown",
   "id": "0ae7c610",
   "metadata": {},
   "source": [
    "Q2)"
   ]
  },
  {
   "cell_type": "code",
   "execution_count": 28,
   "id": "d12e552d",
   "metadata": {},
   "outputs": [],
   "source": [
    "import numpy"
   ]
  },
  {
   "cell_type": "code",
   "execution_count": 29,
   "id": "75970082",
   "metadata": {},
   "outputs": [],
   "source": [
    "a = np.array([10, 20, 30]) \n",
    "b = np.array([3, 5, 7])"
   ]
  },
  {
   "cell_type": "code",
   "execution_count": 30,
   "id": "93c34506",
   "metadata": {},
   "outputs": [
    {
     "name": "stdout",
     "output_type": "stream",
     "text": [
      "[     1000   3200000 395163520]\n"
     ]
    }
   ],
   "source": [
    "#Applying power function\n",
    "print(np.power(a,b))"
   ]
  },
  {
   "cell_type": "code",
   "execution_count": 31,
   "id": "1be80de4",
   "metadata": {},
   "outputs": [
    {
     "name": "stdout",
     "output_type": "stream",
     "text": [
      "[1 0 2]\n"
     ]
    }
   ],
   "source": [
    "#Applying mod function\n",
    "print(np.mod(a,b))"
   ]
  },
  {
   "cell_type": "code",
   "execution_count": 32,
   "id": "037d560f",
   "metadata": {},
   "outputs": [
    {
     "name": "stdout",
     "output_type": "stream",
     "text": [
      "[1 0 2]\n"
     ]
    }
   ],
   "source": [
    "#Applying remainder function\n",
    "print(np.remainder(a,b))"
   ]
  }
 ],
 "metadata": {
  "kernelspec": {
   "display_name": "Python 3",
   "language": "python",
   "name": "python3"
  },
  "language_info": {
   "codemirror_mode": {
    "name": "ipython",
    "version": 3
   },
   "file_extension": ".py",
   "mimetype": "text/x-python",
   "name": "python",
   "nbconvert_exporter": "python",
   "pygments_lexer": "ipython3",
   "version": "3.8.8"
  }
 },
 "nbformat": 4,
 "nbformat_minor": 5
}
