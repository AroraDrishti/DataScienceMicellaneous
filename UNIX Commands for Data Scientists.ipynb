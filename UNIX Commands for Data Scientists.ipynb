{
 "cells": [
  {
   "cell_type": "code",
   "execution_count": 5,
   "id": "ab75daa4",
   "metadata": {},
   "outputs": [
    {
     "name": "stdout",
     "output_type": "stream",
     "text": [
      "3D Objects\n",
      "AppData\n",
      "Application Data\n",
      "Contacts\n",
      "Cookies\n",
      "Documents\n",
      "Downloads\n",
      "Favorites\n",
      "IntelGraphicsProfiles\n",
      "Intro Notebook.ipynb\n",
      "Links\n",
      "Local Settings\n",
      "Music\n",
      "My Documents\n",
      "NTUSER.DAT\n",
      "NTUSER.DAT{53b39e87-18c4-11ea-a811-000d3aa4692b}.TxR.0.regtrans-ms\n",
      "NTUSER.DAT{53b39e87-18c4-11ea-a811-000d3aa4692b}.TxR.1.regtrans-ms\n",
      "NTUSER.DAT{53b39e87-18c4-11ea-a811-000d3aa4692b}.TxR.2.regtrans-ms\n",
      "NTUSER.DAT{53b39e87-18c4-11ea-a811-000d3aa4692b}.TxR.blf\n",
      "NTUSER.DAT{53b39e88-18c4-11ea-a811-000d3aa4692b}.TM.blf\n",
      "NTUSER.DAT{53b39e88-18c4-11ea-a811-000d3aa4692b}.TMContainer00000000000000000001.regtrans-ms\n",
      "NTUSER.DAT{53b39e88-18c4-11ea-a811-000d3aa4692b}.TMContainer00000000000000000002.regtrans-ms\n",
      "NetHood\n",
      "OneDrive\n",
      "PrintHood\n",
      "PycharmProjects\n",
      "Recent\n",
      "Saved Games\n",
      "Searches\n",
      "SendTo\n",
      "Start Menu\n",
      "Templates\n",
      "UNIX Commands for Data Scientists.ipynb\n",
      "Untitled-1.txt\n",
      "Videos\n",
      "anaconda3\n",
      "ls\n",
      "ntuser.dat.LOG1\n",
      "ntuser.dat.LOG2\n",
      "ntuser.ini\n"
     ]
    }
   ],
   "source": [
    "!ls\n"
   ]
  },
  {
   "cell_type": "code",
   "execution_count": null,
   "id": "9272e255",
   "metadata": {},
   "outputs": [],
   "source": []
  }
 ],
 "metadata": {
  "kernelspec": {
   "display_name": "Python 3",
   "language": "python",
   "name": "python3"
  },
  "language_info": {
   "codemirror_mode": {
    "name": "ipython",
    "version": 3
   },
   "file_extension": ".py",
   "mimetype": "text/x-python",
   "name": "python",
   "nbconvert_exporter": "python",
   "pygments_lexer": "ipython3",
   "version": "3.8.8"
  }
 },
 "nbformat": 4,
 "nbformat_minor": 5
}
